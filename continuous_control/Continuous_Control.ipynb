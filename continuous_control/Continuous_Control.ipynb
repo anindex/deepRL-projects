{
 "cells": [
  {
   "cell_type": "markdown",
   "metadata": {},
   "source": [
    "# Continuous Control\n",
    "\n",
    "---\n",
    "\n",
    "In this notebook, D3PG agent will be implemented and tested on the Reacher Unity Environment for the second project of the [Deep Reinforcement Learning Nanodegree](https://www.udacity.com/course/deep-reinforcement-learning-nanodegree--nd893) program.\n",
    "\n",
    "### 1. Start the Environment\n",
    "\n",
    "We begin by importing the necessary packages.  If the code cell below returns an error, please revisit the project instructions to double-check that you have installed [Unity ML-Agents](https://github.com/Unity-Technologies/ml-agents/blob/master/docs/Installation.md) and [NumPy](http://www.numpy.org/)."
   ]
  },
  {
   "cell_type": "code",
   "execution_count": 1,
   "metadata": {},
   "outputs": [
    {
     "name": "stderr",
     "output_type": "stream",
     "text": [
      "INFO:unityagents:\n",
      "'Academy' started successfully!\n",
      "Unity Academy name: Academy\n",
      "        Number of Brains: 1\n",
      "        Number of External Brains : 1\n",
      "        Lesson number : 0\n",
      "        Reset Parameters :\n",
      "\t\tgoal_speed -> 1.0\n",
      "\t\tgoal_size -> 5.0\n",
      "Unity brain name: ReacherBrain\n",
      "        Number of Visual Observations (per agent): 0\n",
      "        Vector Observation space type: continuous\n",
      "        Vector Observation space size (per agent): 33\n",
      "        Number of stacked Vector Observation: 1\n",
      "        Vector Action space type: continuous\n",
      "        Vector Action space size (per agent): 4\n",
      "        Vector Action descriptions: , , , \n"
     ]
    }
   ],
   "source": [
    "from unityagents import UnityEnvironment\n",
    "import numpy as np\n",
    "\n",
    "# select this option to load version 2 (with 20 agents) of the environment\n",
    "env = UnityEnvironment(file_name='C:\\\\Users\\\\anindex\\\\Desktop\\\\Reacher_Windows_x86_64_20\\\\Reacher_Windows_x86_64\\\\Reacher.exe')"
   ]
  },
  {
   "cell_type": "code",
   "execution_count": 2,
   "metadata": {},
   "outputs": [],
   "source": [
    "# get the default brain\n",
    "brain_name = env.brain_names[0]\n",
    "brain = env.brains[brain_name]"
   ]
  },
  {
   "cell_type": "markdown",
   "metadata": {},
   "source": [
    "### 2. Examine the State and Action Spaces\n",
    "\n",
    "Run the code cell below to print some information about the environment."
   ]
  },
  {
   "cell_type": "code",
   "execution_count": 3,
   "metadata": {},
   "outputs": [
    {
     "name": "stdout",
     "output_type": "stream",
     "text": [
      "Number of agents: 20\n",
      "Size of each action: 4\n",
      "There are 20 agents. Each observes a state with length: 33\n",
      "The state for the first agent looks like: [ 0.00000000e+00 -4.00000000e+00  0.00000000e+00  1.00000000e+00\n",
      " -0.00000000e+00 -0.00000000e+00 -4.37113883e-08  0.00000000e+00\n",
      "  0.00000000e+00  0.00000000e+00  0.00000000e+00  0.00000000e+00\n",
      "  0.00000000e+00  0.00000000e+00 -1.00000000e+01  0.00000000e+00\n",
      "  1.00000000e+00 -0.00000000e+00 -0.00000000e+00 -4.37113883e-08\n",
      "  0.00000000e+00  0.00000000e+00  0.00000000e+00  0.00000000e+00\n",
      "  0.00000000e+00  0.00000000e+00  5.75471878e+00 -1.00000000e+00\n",
      "  5.55726624e+00  0.00000000e+00  1.00000000e+00  0.00000000e+00\n",
      " -1.68164849e-01]\n"
     ]
    }
   ],
   "source": [
    "# reset the environment\n",
    "env_info = env.reset(train_mode=True)[brain_name]\n",
    "\n",
    "# number of agents\n",
    "num_agents = len(env_info.agents)\n",
    "print('Number of agents:', num_agents)\n",
    "\n",
    "# size of each action\n",
    "action_size = brain.vector_action_space_size\n",
    "print('Size of each action:', action_size)\n",
    "\n",
    "# examine the state space \n",
    "states = env_info.vector_observations\n",
    "state_size = states.shape[1]\n",
    "print('There are {} agents. Each observes a state with length: {}'.format(states.shape[0], state_size))\n",
    "print('The state for the first agent looks like:', states[0])"
   ]
  },
  {
   "cell_type": "markdown",
   "metadata": {},
   "source": [
    "### 3. Training DDPG agent\n",
    "\n",
    "The implementation for DDPG agent is imported from this repository subfolder `agents/` as a library. "
   ]
  },
  {
   "cell_type": "code",
   "execution_count": 4,
   "metadata": {},
   "outputs": [
    {
     "name": "stdout",
     "output_type": "stream",
     "text": [
      "----------------------------------------------------------------\n",
      "        Layer (type)               Output Shape         Param #\n",
      "================================================================\n",
      "       BatchNorm1d-1                   [-1, 33]              66\n",
      "            Linear-2                  [-1, 256]           8,704\n",
      "       BatchNorm1d-3                  [-1, 256]             512\n",
      "            Linear-4                  [-1, 128]          32,896\n",
      "       BatchNorm1d-5                  [-1, 128]             256\n",
      "            Linear-6                    [-1, 4]             516\n",
      "================================================================\n",
      "Total params: 42,950\n",
      "Trainable params: 42,950\n",
      "Non-trainable params: 0\n",
      "----------------------------------------------------------------\n",
      "Input size (MB): 0.00\n",
      "Forward/backward pass size (MB): 0.01\n",
      "Params size (MB): 0.16\n",
      "Estimated Total Size (MB): 0.17\n",
      "----------------------------------------------------------------\n",
      "MAFCPolicy(\n",
      "  (bn_input): BatchNorm1d(33, eps=1e-05, momentum=0.1, affine=True, track_running_stats=True)\n",
      "  (fc1): Linear(in_features=33, out_features=256, bias=True)\n",
      "  (bn_fc1): BatchNorm1d(256, eps=1e-05, momentum=0.1, affine=True, track_running_stats=True)\n",
      "  (fc2): Linear(in_features=256, out_features=128, bias=True)\n",
      "  (bn_fc2): BatchNorm1d(128, eps=1e-05, momentum=0.1, affine=True, track_running_stats=True)\n",
      "  (fc3): Linear(in_features=128, out_features=4, bias=True)\n",
      ")\n",
      "----------------------------------------------------------------\n",
      "        Layer (type)               Output Shape         Param #\n",
      "================================================================\n",
      "       BatchNorm1d-1                   [-1, 33]              66\n",
      "            Linear-2                  [-1, 128]           4,352\n",
      "            Linear-3                  [-1, 128]          17,024\n",
      "            Linear-4                    [-1, 1]             129\n",
      "================================================================\n",
      "Total params: 21,571\n",
      "Trainable params: 21,571\n",
      "Non-trainable params: 0\n",
      "----------------------------------------------------------------\n",
      "Input size (MB): 0.00\n",
      "Forward/backward pass size (MB): 0.00\n",
      "Params size (MB): 0.08\n",
      "Estimated Total Size (MB): 0.09\n",
      "----------------------------------------------------------------\n",
      "MAFCCritic(\n",
      "  (bn_input): BatchNorm1d(33, eps=1e-05, momentum=0.1, affine=True, track_running_stats=True)\n",
      "  (fc1): Linear(in_features=33, out_features=128, bias=True)\n",
      "  (fc2): Linear(in_features=132, out_features=128, bias=True)\n",
      "  (fc3): Linear(in_features=128, out_features=1, bias=True)\n",
      ")\n"
     ]
    }
   ],
   "source": [
    "import sys\n",
    "import os\n",
    "import torch\n",
    "import numpy as np\n",
    "from collections import deque\n",
    "import matplotlib.pyplot as plt\n",
    "%matplotlib inline\n",
    "\n",
    "#uncomment the following line if import failed\n",
    "sys.path.insert(0, os.path.abspath(os.path.join(os.path.dirname(__name__), '..')))\n",
    "from agents.agents import DDPGAgent\n",
    "\n",
    "agent = DDPGAgent(state_size, action_size, random_seed=0, num_agents=num_agents)"
   ]
  },
  {
   "cell_type": "code",
   "execution_count": null,
   "metadata": {},
   "outputs": [],
   "source": [
    "# loading checkpoint if the file exists\n",
    "\n",
    "if os.path.isfile('actor.pth') and os.path.isfile('critic.pth'):\n",
    "    agent.actor_local.load_state_dict(torch.load('actor.pth'))\n",
    "    agent.actor_target.load_state_dict(torch.load('actor.pth'))\n",
    "    agent.critic_local.load_state_dict(torch.load('critic.pth'))\n",
    "    agent.critic_target.load_state_dict(torch.load('critic.pth'))\n",
    "    print(\"Loaded previous trained DDPG agent!\")"
   ]
  },
  {
   "cell_type": "code",
   "execution_count": null,
   "metadata": {},
   "outputs": [
    {
     "name": "stdout",
     "output_type": "stream",
     "text": [
      "Episode 10\tAverage Score: 1.10\tScore: 1.52\n",
      "Episode 20\tAverage Score: 1.48\tScore: 1.65\n",
      "Episode 30\tAverage Score: 1.77\tScore: 2.50\n",
      "Episode 40\tAverage Score: 2.49\tScore: 5.89\n",
      "Episode 50\tAverage Score: 3.51\tScore: 8.68\n",
      "Episode 60\tAverage Score: 4.73\tScore: 15.25\n",
      "Episode 70\tAverage Score: 6.41\tScore: 17.64\n",
      "Episode 80\tAverage Score: 8.21\tScore: 22.02\n",
      "Episode 90\tAverage Score: 10.31\tScore: 28.55\n",
      "Episode 100\tAverage Score: 12.28\tScore: 30.69\n",
      "Episode 110\tAverage Score: 15.37\tScore: 34.02\n",
      "Episode 120\tAverage Score: 18.72\tScore: 35.35\n",
      "Episode 130\tAverage Score: 22.09\tScore: 37.43\n"
     ]
    }
   ],
   "source": [
    "from workspace_utils import active_session\n",
    "\n",
    "def train_ddpg(n_episodes=2000, max_t=1000, start_episode=1, print_every=100, save_every=500, saving=False, eps = 1.0, eps_linear_decay=1e-5, eps_min=0.1):\n",
    "    \"\"\"Distributional DDPG (D3PG)\n",
    "    \n",
    "    Params\n",
    "    ======\n",
    "        n_episodes (int): maximum number of training episodes\n",
    "        max_t (int): maximum number of timesteps per episode\n",
    "    \"\"\"\n",
    "    scores = []                        # list containing scores from each episode\n",
    "    scores_window = deque(maxlen=100)  # last 100 scores\n",
    "    \n",
    "    saved = False\n",
    "\n",
    "    for i_episode in range(start_episode, start_episode+n_episodes+1):\n",
    "        env_info = env.reset(train_mode=True)[brain_name]\n",
    "        agent.reset()\n",
    "        \n",
    "        states = env_info.vector_observations\n",
    "        current_scores = np.zeros(num_agents)\n",
    "        for t in range(max_t):\n",
    "            actions = agent.act(states, eps)\n",
    "            env_info = env.step(actions)[brain_name]\n",
    "            \n",
    "            next_states = env_info.vector_observations  \n",
    "            rewards = env_info.rewards                \n",
    "            dones = env_info.local_done\n",
    "            current_scores += env_info.rewards\n",
    "            \n",
    "            for i in range(num_agents):\n",
    "                agent.step(states[i], actions[i], rewards[i], next_states[i], dones[i])\n",
    "                \n",
    "            states = next_states\n",
    "            eps = max(eps_min, eps - eps_linear_decay)\n",
    "            if np.any(dones):\n",
    "                break \n",
    "            \n",
    "        avg_score = np.mean(current_scores)\n",
    "        scores_window.append(avg_score)       # save most recent score\n",
    "        scores.append(avg_score)              # save most recent score\n",
    "\n",
    "        mean_score = np.mean(scores_window)\n",
    "        if i_episode % print_every == 0:\n",
    "            print('\\rEpisode {}\\tAverage Score: {:.2f}\\tScore: {:.2f}'.format(i_episode, mean_score, avg_score))\n",
    "        if mean_score >= 30.0 and saving and not saved:\n",
    "            print('\\nEnvironment solved in {:d} episodes!\\tAverage Score: {:.2f}, saving models!'.format(i_episode, mean_score))\n",
    "            torch.save(agent.actor_local.state_dict(), 'actor.pth')\n",
    "            torch.save(agent.critic_local.state_dict(), 'critic.pth')\n",
    "            saved = True\n",
    "    return scores\n",
    "\n",
    "with active_session():\n",
    "    scores = train_ddpg(n_episodes=200, print_every=10, saving=True)"
   ]
  },
  {
   "cell_type": "code",
   "execution_count": null,
   "metadata": {},
   "outputs": [],
   "source": [
    "# run this cell for saving scores and Q network state_dict\n",
    "\n",
    "import pickle\n",
    "\n",
    "with open('DDPG_control_scores', 'wb') as fp:\n",
    "    pickle.dump(scores, fp)\n",
    "    \n",
    "torch.save(agent.actor_local.state_dict(), 'actor.pth')\n",
    "torch.save(agent.critic_local.state_dict(), 'critic.pth')"
   ]
  },
  {
   "cell_type": "markdown",
   "metadata": {},
   "source": [
    "Unfortunately, although my models were successfully saved, somehow the output of the training cell did not record the success message and even the recorded training score is lost when the GPU time run out (it costs me 35 hours to train this model!). I am not sure what cause this, so I have included a testing function (no training) with rewards of 20 agents averaged over 100 episodes. "
   ]
  },
  {
   "cell_type": "markdown",
   "metadata": {},
   "source": [
    "### 4. Evaluate the agent\n",
    "\n",
    "We will then observe the trained behavior of the DDPG agent ands finally record the total average score of 20 agents. The next cell will load the saved model and then we can test the model on the env."
   ]
  },
  {
   "cell_type": "code",
   "execution_count": 5,
   "metadata": {},
   "outputs": [
    {
     "name": "stdout",
     "output_type": "stream",
     "text": [
      "----------------------------------------------------------------\n",
      "        Layer (type)               Output Shape         Param #\n",
      "================================================================\n",
      "       BatchNorm1d-1                   [-1, 33]              66\n",
      "            Linear-2                  [-1, 256]           8,704\n",
      "       BatchNorm1d-3                  [-1, 256]             512\n",
      "            Linear-4                  [-1, 128]          32,896\n",
      "       BatchNorm1d-5                  [-1, 128]             256\n",
      "            Linear-6                    [-1, 4]             516\n",
      "================================================================\n",
      "Total params: 42,950\n",
      "Trainable params: 42,950\n",
      "Non-trainable params: 0\n",
      "----------------------------------------------------------------\n",
      "Input size (MB): 0.00\n",
      "Forward/backward pass size (MB): 0.01\n",
      "Params size (MB): 0.16\n",
      "Estimated Total Size (MB): 0.17\n",
      "----------------------------------------------------------------\n",
      "MAFCPolicy(\n",
      "  (bn_input): BatchNorm1d(33, eps=1e-05, momentum=0.1, affine=True, track_running_stats=True)\n",
      "  (fc1): Linear(in_features=33, out_features=256, bias=True)\n",
      "  (bn_fc1): BatchNorm1d(256, eps=1e-05, momentum=0.1, affine=True, track_running_stats=True)\n",
      "  (fc2): Linear(in_features=256, out_features=128, bias=True)\n",
      "  (bn_fc2): BatchNorm1d(128, eps=1e-05, momentum=0.1, affine=True, track_running_stats=True)\n",
      "  (fc3): Linear(in_features=128, out_features=4, bias=True)\n",
      ")\n",
      "----------------------------------------------------------------\n",
      "        Layer (type)               Output Shape         Param #\n",
      "================================================================\n",
      "       BatchNorm1d-1                   [-1, 33]              66\n",
      "            Linear-2                  [-1, 128]           4,352\n",
      "            Linear-3                  [-1, 128]          17,024\n",
      "            Linear-4                    [-1, 1]             129\n",
      "================================================================\n",
      "Total params: 21,571\n",
      "Trainable params: 21,571\n",
      "Non-trainable params: 0\n",
      "----------------------------------------------------------------\n",
      "Input size (MB): 0.00\n",
      "Forward/backward pass size (MB): 0.00\n",
      "Params size (MB): 0.08\n",
      "Estimated Total Size (MB): 0.09\n",
      "----------------------------------------------------------------\n",
      "MAFCCritic(\n",
      "  (bn_input): BatchNorm1d(33, eps=1e-05, momentum=0.1, affine=True, track_running_stats=True)\n",
      "  (fc1): Linear(in_features=33, out_features=128, bias=True)\n",
      "  (fc2): Linear(in_features=132, out_features=128, bias=True)\n",
      "  (fc3): Linear(in_features=128, out_features=1, bias=True)\n",
      ")\n"
     ]
    }
   ],
   "source": [
    "agent = DDPGAgent(state_size, action_size, random_seed=0, num_agents=num_agents)\n",
    "\n",
    "if os.path.isfile('actor.pth') and os.path.isfile('critic.pth'):\n",
    "    agent.actor_local.load_state_dict(torch.load('actor.pth'))\n",
    "    agent.critic_local.load_state_dict(torch.load('critic.pth'))"
   ]
  },
  {
   "cell_type": "code",
   "execution_count": 9,
   "metadata": {},
   "outputs": [
    {
     "name": "stdout",
     "output_type": "stream",
     "text": [
      "Episode 100\tAverage Score: 37.80\tScore: 38.32\n",
      "Episode 200\tAverage Score: 37.87\tScore: 38.16\n"
     ]
    }
   ],
   "source": [
    "def test_ddpg(n_episodes=2000, max_t=1000, start_episode=1, print_every=100):\n",
    "    scores = []                        # list containing scores from each episode\n",
    "    scores_window = deque(maxlen=100)  # last 100 scores\n",
    "    \n",
    "    for i_episode in range(start_episode, start_episode+n_episodes+1):\n",
    "        env_info = env.reset(train_mode=True)[brain_name]\n",
    "        agent.reset()\n",
    "        \n",
    "        states = env_info.vector_observations\n",
    "        current_scores = np.zeros(num_agents)\n",
    "        for t in range(max_t):\n",
    "            actions = agent.act(states)                        # select an action (for each agent)\n",
    "\n",
    "            env_info = env.step(actions)[brain_name]           # send all actions to tne environment\n",
    "            next_states = env_info.vector_observations         # get next state (for each agent)\n",
    "            rewards = env_info.rewards                         # get reward (for each agent)\n",
    "            dones = env_info.local_done                        # see if episode finished\n",
    "            current_scores += env_info.rewards                         # update the score (for each agent)\n",
    "            states = next_states                               # roll over states to next time step\n",
    "            if np.any(dones):                                  # exit loop if episode finished\n",
    "                break\n",
    "        avg_score = np.mean(current_scores)\n",
    "        scores_window.append(avg_score)       # save most recent score\n",
    "        scores.append(avg_score)              # save most recent score\n",
    "        mean_score = np.mean(scores_window)\n",
    "        if i_episode % print_every == 0:\n",
    "            print('\\rEpisode {}\\tAverage Score: {:.2f}\\tScore: {:.2f}'.format(i_episode, mean_score, avg_score))\n",
    "    return scores\n",
    "\n",
    "scores = test_ddpg(n_episodes=200)"
   ]
  },
  {
   "cell_type": "code",
   "execution_count": 10,
   "metadata": {},
   "outputs": [
    {
     "data": {
      "image/png": "[encoded data removed]",
      "text/plain": [
       "<Figure size 432x288 with 1 Axes>"
      ]
     },
     "metadata": {
      "needs_background": "light"
     },
     "output_type": "display_data"
    }
   ],
   "source": [
    "# plot the test scores\n",
    "fig = plt.figure()\n",
    "ax = fig.add_subplot(111)\n",
    "plt.plot(np.arange(len(scores)), scores)\n",
    "plt.ylabel('Test Score')\n",
    "plt.xlabel('Episode #')\n",
    "plt.show()"
   ]
  },
  {
   "cell_type": "markdown",
   "metadata": {},
   "source": [
    "As can be seen, the agent is successfully trained and is able to maintain mean testing score of 37.8 over 100 episodes! Now we can enjoy watching our trained agent reaching the green objects."
   ]
  },
  {
   "cell_type": "code",
   "execution_count": 7,
   "metadata": {},
   "outputs": [
    {
     "name": "stdout",
     "output_type": "stream",
     "text": [
      "Total score (averaged over agents) this episode: 37.38499916438013\n"
     ]
    }
   ],
   "source": [
    "env_info = env.reset(train_mode=False)[brain_name]     # reset the environment    \n",
    "states = env_info.vector_observations                  # get the current state (for each agent)\n",
    "scores = np.zeros(num_agents)                          # initialize the score (for each agent)\n",
    "while True:\n",
    "    actions = agent.act(states)                        # select an action (for each agent)\n",
    "\n",
    "    env_info = env.step(actions)[brain_name]           # send all actions to tne environment\n",
    "    next_states = env_info.vector_observations         # get next state (for each agent)\n",
    "    rewards = env_info.rewards                         # get reward (for each agent)\n",
    "    dones = env_info.local_done                        # see if episode finished\n",
    "    scores += env_info.rewards                         # update the score (for each agent)\n",
    "    states = next_states                               # roll over states to next time step\n",
    "    if np.any(dones):                                  # exit loop if episode finished\n",
    "        break\n",
    "print('Total score (averaged over agents) this episode: {}'.format(np.mean(scores)))"
   ]
  },
  {
   "cell_type": "code",
   "execution_count": 11,
   "metadata": {},
   "outputs": [],
   "source": [
    "env.close()"
   ]
  }
 ],
 "metadata": {
  "kernelspec": {
   "display_name": "Python 3",
   "language": "python",
   "name": "python3"
  },
  "language_info": {
   "codemirror_mode": {
    "name": "ipython",
    "version": 3
   },
   "file_extension": ".py",
   "mimetype": "text/x-python",
   "name": "python",
   "nbconvert_exporter": "python",
   "pygments_lexer": "ipython3",
   "version": "3.6.10"
  }
 },
 "nbformat": 4,
 "nbformat_minor": 2
}
